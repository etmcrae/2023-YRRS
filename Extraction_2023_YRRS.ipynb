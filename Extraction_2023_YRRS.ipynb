{
  "nbformat": 4,
  "nbformat_minor": 0,
  "metadata": {
    "colab": {
      "provenance": [],
      "mount_file_id": "1C1YaW_kIwsoh9k78Yc21K6K4nSDdIjPB",
      "authorship_tag": "ABX9TyPwjoEXVecMjw3eNd8FCBcK",
      "include_colab_link": true
    },
    "kernelspec": {
      "name": "python3",
      "display_name": "Python 3"
    },
    "language_info": {
      "name": "python"
    }
  },
  "cells": [
    {
      "cell_type": "markdown",
      "metadata": {
        "id": "view-in-github",
        "colab_type": "text"
      },
      "source": [
        "<a href=\"https://colab.research.google.com/github/etmcrae/2023-YRRS/blob/main/Extraction_2023_YRRS.ipynb\" target=\"_parent\"><img src=\"https://colab.research.google.com/assets/colab-badge.svg\" alt=\"Open In Colab\"/></a>"
      ]
    },
    {
      "cell_type": "code",
      "execution_count": 4,
      "metadata": {
        "colab": {
          "base_uri": "https://localhost:8080/"
        },
        "id": "Azt-WRWpnVOG",
        "outputId": "e8e87bc0-a009-49f6-f33a-3234054a5b57"
      },
      "outputs": [
        {
          "output_type": "stream",
          "name": "stdout",
          "text": [
            "Requirement already satisfied: py7zr in /usr/local/lib/python3.11/dist-packages (0.22.0)\n",
            "Requirement already satisfied: texttable in /usr/local/lib/python3.11/dist-packages (from py7zr) (1.7.0)\n",
            "Requirement already satisfied: pycryptodomex>=3.16.0 in /usr/local/lib/python3.11/dist-packages (from py7zr) (3.22.0)\n",
            "Requirement already satisfied: pyzstd>=0.15.9 in /usr/local/lib/python3.11/dist-packages (from py7zr) (0.16.2)\n",
            "Requirement already satisfied: pyppmd<1.2.0,>=1.1.0 in /usr/local/lib/python3.11/dist-packages (from py7zr) (1.1.1)\n",
            "Requirement already satisfied: pybcj<1.1.0,>=1.0.0 in /usr/local/lib/python3.11/dist-packages (from py7zr) (1.0.3)\n",
            "Requirement already satisfied: multivolumefile>=0.2.3 in /usr/local/lib/python3.11/dist-packages (from py7zr) (0.2.3)\n",
            "Requirement already satisfied: inflate64<1.1.0,>=1.0.0 in /usr/local/lib/python3.11/dist-packages (from py7zr) (1.0.1)\n",
            "Requirement already satisfied: brotli>=1.1.0 in /usr/local/lib/python3.11/dist-packages (from py7zr) (1.1.0)\n",
            "Requirement already satisfied: psutil in /usr/local/lib/python3.11/dist-packages (from py7zr) (5.9.5)\n",
            "Files extracted to /content/drive/MyDrive/Dashboards\n"
          ]
        }
      ],
      "source": [
        "!pip install py7zr\n",
        "import py7zr\n",
        "\n",
        "# Path to the .7z file and the output directory\n",
        "file_path = \"/content/drive/MyDrive/Dashboards/MS and HS 2023 YRRS Data.7z\"\n",
        "output_dir = \"/content/drive/MyDrive/Dashboards\"\n",
        "\n",
        "# Extract the .7z archive\n",
        "with py7zr.SevenZipFile(file_path, mode='r') as archive:\n",
        "    archive.extractall(path=output_dir)\n",
        "\n",
        "print(f\"Files extracted to {output_dir}\")\n"
      ]
    }
  ]
}